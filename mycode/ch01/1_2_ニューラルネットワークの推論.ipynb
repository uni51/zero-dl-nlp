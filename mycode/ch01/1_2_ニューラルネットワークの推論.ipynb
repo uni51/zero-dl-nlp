{
 "cells": [
  {
   "cell_type": "markdown",
   "metadata": {},
   "source": [
    "# 1章：ニューラルネットワークの復習"
   ]
  },
  {
   "cell_type": "markdown",
   "metadata": {},
   "source": [
    "## 1.2 ニューラルネットワークの推論"
   ]
  },
  {
   "cell_type": "markdown",
   "metadata": {},
   "source": [
    "### 1.2.1 ニューラルネットワークの推論の全体図"
   ]
  },
  {
   "cell_type": "code",
   "execution_count": 1,
   "metadata": {},
   "outputs": [
    {
     "data": {
      "text/plain": [
       "array([[-0.93066443, -1.13614467,  0.83929439,  1.0575558 ],\n",
       "       [-2.54532404,  0.5026538 ,  2.2467783 , -0.08449728],\n",
       "       [-0.69527447,  0.04342654,  1.88736827,  4.06247293],\n",
       "       [-5.58057192,  2.55327561,  3.98254417, -4.2924048 ],\n",
       "       [-1.47446046, -1.39161191,  0.59996546, -0.94269216],\n",
       "       [ 0.30732788, -1.84902099,  0.24045245,  3.02099996],\n",
       "       [-0.54237674, -2.30808627, -0.18642065, -0.22430863],\n",
       "       [-2.6977441 ,  0.39817845,  2.150655  , -0.71092016],\n",
       "       [ 0.41546132, -1.77386532,  0.30956211,  3.46748535],\n",
       "       [-0.60161428, -1.00919697,  0.95969566,  2.21260399]])"
      ]
     },
     "execution_count": 1,
     "metadata": {},
     "output_type": "execute_result"
    }
   ],
   "source": [
    "import numpy as np\n",
    "W1 = np.random.randn(2, 4) # 重み\n",
    "b1 = np.random.randn(4) # バイアス\n",
    "x = np.random.randn(10, 2) # 入力\n",
    "h = np.dot(x, W1) + b1\n",
    "h # hは 10 x 4 の形状"
   ]
  },
  {
   "cell_type": "code",
   "execution_count": 2,
   "metadata": {},
   "outputs": [],
   "source": [
    "# シグモイド関数\n",
    "def sigmoid(x):\n",
    "    return 1 / (1 + np.exp(-x))"
   ]
  },
  {
   "cell_type": "code",
   "execution_count": 3,
   "metadata": {},
   "outputs": [
    {
     "data": {
      "text/plain": [
       "array([[0.28278993, 0.24302891, 0.69831658, 0.74222318],\n",
       "       [0.07274125, 0.62308278, 0.90437228, 0.47888824],\n",
       "       [0.33286077, 0.51085493, 0.86845517, 0.98308464],\n",
       "       [0.00375625, 0.92779327, 0.98170286, 0.0134876 ],\n",
       "       [0.18626559, 0.19915055, 0.6456484 , 0.28035686],\n",
       "       [0.57623289, 0.13598789, 0.55982515, 0.95351387],\n",
       "       [0.36763486, 0.09045547, 0.45352934, 0.44415679],\n",
       "       [0.0631066 , 0.59824994, 0.89572997, 0.32939555],\n",
       "       [0.60239668, 0.1450623 , 0.57677837, 0.96974833],\n",
       "       [0.35397446, 0.26713703, 0.72306087, 0.90137566]])"
      ]
     },
     "execution_count": 3,
     "metadata": {},
     "output_type": "execute_result"
    }
   ],
   "source": [
    "a = sigmoid(h)\n",
    "a"
   ]
  },
  {
   "cell_type": "code",
   "execution_count": 4,
   "metadata": {},
   "outputs": [
    {
     "data": {
      "text/plain": [
       "array([[ 1.24372905,  0.82877752, -0.93075819],\n",
       "       [ 1.42270696,  1.47724685, -1.49064625],\n",
       "       [ 1.79355474,  0.88149722, -1.32965212],\n",
       "       [ 1.28090614,  1.50678927, -1.52294883],\n",
       "       [ 1.52706425,  1.0925249 , -1.26555571],\n",
       "       [ 1.83711864,  1.62364438, -1.85613083],\n",
       "       [ 1.46922108,  0.50188823, -0.77641643],\n",
       "       [ 1.13774227,  0.60210355, -0.75730433],\n",
       "       [ 0.92346046,  1.35816506, -1.42670972],\n",
       "       [ 1.20951758,  0.98978377, -1.01922827]])"
      ]
     },
     "execution_count": 4,
     "metadata": {},
     "output_type": "execute_result"
    }
   ],
   "source": [
    "import numpy as np\n",
    "\n",
    "# シグモイド関数\n",
    "def sigmoid(x):\n",
    "    return 1 / (1 + np.exp(-x))\n",
    "\n",
    "x = np.random.randn(10, 2) # 入力\n",
    "W1 = np.random.randn(2, 4) # 重み（1層目）\n",
    "b1 = np.random.randn(4) # バイアス（1層目）\n",
    "W2 = np.random.randn(4, 3) # 重み（2層目）\n",
    "b2 = np.random.randn(3) # バイアス（2層目）\n",
    "\n",
    "h = np.dot(x, W1) + b1\n",
    "a = sigmoid(h)\n",
    "s = np.dot(a, W2) + b2\n",
    "s"
   ]
  },
  {
   "cell_type": "markdown",
   "metadata": {},
   "source": [
    "### 1.2.2 レイヤとしてのクラス化と順伝播の実装"
   ]
  },
  {
   "cell_type": "code",
   "execution_count": 12,
   "metadata": {},
   "outputs": [
    {
     "name": "stdout",
     "output_type": "stream",
     "text": [
      "[[-0.88444325 -0.77918377 -0.10778886]\n",
      " [-0.7842112  -0.63181642 -1.46456064]\n",
      " [-0.9777251  -0.67257563 -0.93044016]\n",
      " [-0.83823337 -0.72982782 -0.77033122]\n",
      " [-0.70175492 -0.59711376 -1.6434957 ]\n",
      " [-0.97309071 -0.70672583 -0.58329047]\n",
      " [-0.83456485 -0.65225296 -1.32210065]\n",
      " [-0.60159631 -0.42230648 -2.17174246]\n",
      " [-0.55699378 -0.30609167 -2.40600092]\n",
      " [-0.98584541 -0.68493283 -0.78080486]]\n"
     ]
    }
   ],
   "source": [
    "# coding: utf-8\n",
    "import numpy as np\n",
    "\n",
    "# シグモイド層（Sigmoidレイヤ）\n",
    "class Sigmoid:\n",
    "    def __init__(self):\n",
    "        self.params = []\n",
    "\n",
    "    def forward(self, x): # 順伝播\n",
    "        # シグモイド関数\n",
    "        return 1 / (1 + np.exp(-x))\n",
    "\n",
    "# 全結合層 （ affineレイヤ）   \n",
    "class Affine:\n",
    "    def __init__(self, W, b): # 初期化時に重みとバイアスを受け取る\n",
    "        self.params = [W, b]\n",
    "\n",
    "    def forward(self, x): # 順伝播\n",
    "        W, b = self.params\n",
    "        out = np.dot(x, W) + b\n",
    "        return out\n",
    "\n",
    "    \n",
    "class TwoLayerNet:\n",
    "    def __init__(self, input_size, hidden_size, output_size):\n",
    "        I, H, O = input_size, hidden_size, output_size\n",
    "\n",
    "        # 重みとバイアスの初期化\n",
    "        W1 = np.random.randn(I, H)\n",
    "        b1 = np.random.randn(H)\n",
    "        W2 = np.random.randn(H, O)\n",
    "        b2 = np.random.randn(O)\n",
    "\n",
    "        # レイヤの生成\n",
    "        self.layers = [\n",
    "            Affine(W1, b1),\n",
    "            Sigmoid(),\n",
    "            Affine(W2, b2)\n",
    "        ]\n",
    "\n",
    "        # すべての重みをリストにまとめる\n",
    "        self.params = []\n",
    "        for layer in self.layers:\n",
    "            self.params += layer.params\n",
    "\n",
    "    def predict(self, x):\n",
    "        for layer in self.layers:\n",
    "            x = layer.forward(x)\n",
    "        return x    \n",
    "    \n",
    "x = np.random.randn(10, 2) # xの形状は(10, 2) 2次元のデータが10個 \n",
    "model = TwoLayerNet(2, 4, 3) # 入力層のニューロンが2、隠れ層のニューロンが4、出力層のニューロンを3個とする\n",
    "s = model.predict(x)\n",
    "print(s)    "
   ]
  },
  {
   "cell_type": "code",
   "execution_count": null,
   "metadata": {},
   "outputs": [],
   "source": []
  },
  {
   "cell_type": "code",
   "execution_count": null,
   "metadata": {},
   "outputs": [],
   "source": []
  },
  {
   "cell_type": "code",
   "execution_count": null,
   "metadata": {},
   "outputs": [],
   "source": []
  },
  {
   "cell_type": "code",
   "execution_count": null,
   "metadata": {},
   "outputs": [],
   "source": []
  },
  {
   "cell_type": "code",
   "execution_count": null,
   "metadata": {},
   "outputs": [],
   "source": []
  },
  {
   "cell_type": "code",
   "execution_count": null,
   "metadata": {},
   "outputs": [],
   "source": []
  },
  {
   "cell_type": "code",
   "execution_count": null,
   "metadata": {},
   "outputs": [],
   "source": []
  },
  {
   "cell_type": "code",
   "execution_count": null,
   "metadata": {},
   "outputs": [],
   "source": []
  },
  {
   "cell_type": "code",
   "execution_count": null,
   "metadata": {},
   "outputs": [],
   "source": []
  }
 ],
 "metadata": {
  "kernelspec": {
   "display_name": "Python 3",
   "language": "python",
   "name": "python3"
  },
  "language_info": {
   "codemirror_mode": {
    "name": "ipython",
    "version": 3
   },
   "file_extension": ".py",
   "mimetype": "text/x-python",
   "name": "python",
   "nbconvert_exporter": "python",
   "pygments_lexer": "ipython3",
   "version": "3.7.7"
  }
 },
 "nbformat": 4,
 "nbformat_minor": 4
}
